{
 "cells": [
  {
   "cell_type": "markdown",
   "metadata": {},
   "source": [
    "## Funções"
   ]
  },
  {
   "cell_type": "code",
   "execution_count": 3,
   "metadata": {
    "collapsed": true
   },
   "outputs": [
    {
     "data": {
      "text/html": [
       "<style>\n",
       ".list-inline {list-style: none; margin:0; padding: 0}\n",
       ".list-inline>li {display: inline-block}\n",
       ".list-inline>li:not(:last-child)::after {content: \"\\00b7\"; padding: 0 .5ex}\n",
       "</style>\n",
       "<ol class=list-inline><li>1</li><li>2</li><li>3</li><li>4</li></ol>\n"
      ],
      "text/latex": [
       "\\begin{enumerate*}\n",
       "\\item 1\n",
       "\\item 2\n",
       "\\item 3\n",
       "\\item 4\n",
       "\\end{enumerate*}\n"
      ],
      "text/markdown": [
       "1. 1\n",
       "2. 2\n",
       "3. 3\n",
       "4. 4\n",
       "\n",
       "\n"
      ],
      "text/plain": [
       "[1] 1 2 3 4"
      ]
     },
     "metadata": {},
     "output_type": "display_data"
    }
   ],
   "source": [
    "#Funções nativas do R:\n",
    "c(1, 2, 3, 4)"
   ]
  },
  {
   "cell_type": "code",
   "execution_count": 7,
   "metadata": {
    "collapsed": true
   },
   "outputs": [
    {
     "data": {
      "text/html": [
       "25"
      ],
      "text/latex": [
       "25"
      ],
      "text/markdown": [
       "25"
      ],
      "text/plain": [
       "[1] 25"
      ]
     },
     "metadata": {},
     "output_type": "display_data"
    },
    {
     "data": {
      "text/html": [
       "25"
      ],
      "text/latex": [
       "25"
      ],
      "text/markdown": [
       "25"
      ],
      "text/plain": [
       "[1] 25"
      ]
     },
     "metadata": {},
     "output_type": "display_data"
    }
   ],
   "source": [
    "#Funções definidas pelo usuário:\n",
    "square = function(x){x^2}\n",
    "\n",
    "square(5)\n",
    "#ou\n",
    "square(x=5)"
   ]
  },
  {
   "cell_type": "code",
   "execution_count": 9,
   "metadata": {
    "collapsed": true
   },
   "outputs": [
    {
     "data": {
      "text/html": [
       "3"
      ],
      "text/latex": [
       "3"
      ],
      "text/markdown": [
       "3"
      ],
      "text/plain": [
       "[1] 3"
      ]
     },
     "metadata": {},
     "output_type": "display_data"
    },
    {
     "data": {
      "text/html": [
       "3"
      ],
      "text/latex": [
       "3"
      ],
      "text/markdown": [
       "3"
      ],
      "text/plain": [
       "[1] 3"
      ]
     },
     "metadata": {},
     "output_type": "display_data"
    }
   ],
   "source": [
    "#Parâmetros default\n",
    "sum = function(x, y = 2){x+y}\n",
    "sum(x = 1, y = 2)\n",
    "sum(1)"
   ]
  },
  {
   "cell_type": "code",
   "execution_count": 14,
   "metadata": {},
   "outputs": [],
   "source": [
    "#comando Return\n",
    "eh_par = function(x){\n",
    "  if(x %% 2 == 0) {\n",
    "    return(\"par\")\n",
    "   } else {\n",
    "    return(\"ímpar\")\n",
    "   }\n",
    "}"
   ]
  },
  {
   "cell_type": "code",
   "execution_count": 16,
   "metadata": {
    "collapsed": true
   },
   "outputs": [
    {
     "data": {
      "text/html": [
       "'par'"
      ],
      "text/latex": [
       "'par'"
      ],
      "text/markdown": [
       "'par'"
      ],
      "text/plain": [
       "[1] \"par\""
      ]
     },
     "metadata": {},
     "output_type": "display_data"
    },
    {
     "data": {
      "text/html": [
       "'ímpar'"
      ],
      "text/latex": [
       "'ímpar'"
      ],
      "text/markdown": [
       "'ímpar'"
      ],
      "text/plain": [
       "[1] \"ímpar\""
      ]
     },
     "metadata": {},
     "output_type": "display_data"
    },
    {
     "name": "stderr",
     "output_type": "stream",
     "text": [
      "Warning message in if (x%%2 == 0) {:\n",
      "“the condition has length > 1 and only the first element will be used”"
     ]
    },
    {
     "data": {
      "text/html": [
       "'par'"
      ],
      "text/latex": [
       "'par'"
      ],
      "text/markdown": [
       "'par'"
      ],
      "text/plain": [
       "[1] \"par\""
      ]
     },
     "metadata": {},
     "output_type": "display_data"
    },
    {
     "data": {
      "text/html": [
       "'ímpar'"
      ],
      "text/latex": [
       "'ímpar'"
      ],
      "text/markdown": [
       "'ímpar'"
      ],
      "text/plain": [
       "[1] \"ímpar\""
      ]
     },
     "metadata": {},
     "output_type": "display_data"
    }
   ],
   "source": [
    "#chamando a função\n",
    "eh_par(10L)\n",
    "eh_par(25L)\n",
    "eh_par(c(10L, 25L))\n",
    "eh_par(10.1)"
   ]
  },
  {
   "cell_type": "code",
   "execution_count": 22,
   "metadata": {},
   "outputs": [],
   "source": [
    "#stopifnot: garantir o uso correto da função:\n",
    "eh_par2 = function(x){\n",
    "    stopifnot(is.integer(x), length(x) == 1)\n",
    "  if(x %% 2 == 0) {\n",
    "    return(\"par\")\n",
    "   } else {\n",
    "    return(\"ímpar\")\n",
    "   }\n",
    "}"
   ]
  },
  {
   "cell_type": "code",
   "execution_count": 25,
   "metadata": {
    "collapsed": true
   },
   "outputs": [
    {
     "data": {
      "text/html": [
       "'par'"
      ],
      "text/latex": [
       "'par'"
      ],
      "text/markdown": [
       "'par'"
      ],
      "text/plain": [
       "[1] \"par\""
      ]
     },
     "metadata": {},
     "output_type": "display_data"
    },
    {
     "data": {
      "text/html": [
       "'ímpar'"
      ],
      "text/latex": [
       "'ímpar'"
      ],
      "text/markdown": [
       "'ímpar'"
      ],
      "text/plain": [
       "[1] \"ímpar\""
      ]
     },
     "metadata": {},
     "output_type": "display_data"
    },
    {
     "ename": "ERROR",
     "evalue": "Error in eh_par2(c(10L, 25L)): length(x) == 1 is not TRUE\n",
     "output_type": "error",
     "traceback": [
      "Error in eh_par2(c(10L, 25L)): length(x) == 1 is not TRUE\nTraceback:\n",
      "1. eh_par2(c(10L, 25L))",
      "2. stopifnot(is.integer(x), length(x) == 1)   # at line 3 of file <text>"
     ]
    }
   ],
   "source": [
    "#chamando a função eh_par2\n",
    "eh_par2(10L)\n",
    "eh_par2(25L)\n",
    "eh_par2(c(10L, 25L))\n",
    "eh_par2(10.1)"
   ]
  },
  {
   "cell_type": "code",
   "execution_count": null,
   "metadata": {},
   "outputs": [],
   "source": []
  }
 ],
 "metadata": {
  "kernelspec": {
   "display_name": "Python 3",
   "language": "python",
   "name": "python3"
  },
  "language_info": {
   "codemirror_mode": {
    "name": "ipython",
    "version": 3
   },
   "file_extension": ".py",
   "mimetype": "text/x-python",
   "name": "python",
   "nbconvert_exporter": "python",
   "pygments_lexer": "ipython3",
   "version": "3.7.6"
  }
 },
 "nbformat": 4,
 "nbformat_minor": 4
}
